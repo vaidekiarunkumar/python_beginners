{
 "cells": [
  {
   "cell_type": "code",
   "execution_count": 1,
   "id": "2561a91e-b5fb-4239-9625-40e777d65e67",
   "metadata": {},
   "outputs": [
    {
     "name": "stdout",
     "output_type": "stream",
     "text": [
      "['tamilnadu', 'andrapradesh', 'kerala', 'karnataka', 'telugana']\n"
     ]
    }
   ],
   "source": [
    "statename=['tamilnadu','andrapradesh', 'kerala','karnataka','telugana']\n",
    "print(statename)"
   ]
  },
  {
   "cell_type": "code",
   "execution_count": 4,
   "id": "4a113c99-3c48-463c-b00f-a492708dfb9a",
   "metadata": {},
   "outputs": [
    {
     "name": "stdout",
     "output_type": "stream",
     "text": [
      "welcome you all,tamilnadu\n"
     ]
    }
   ],
   "source": [
    "message=f\"welcome you all,{statename[0]}\"\n",
    "print(message)"
   ]
  },
  {
   "cell_type": "code",
   "execution_count": 6,
   "id": "fbaf1454-6878-4ed9-a06f-ba1c7f64a62b",
   "metadata": {},
   "outputs": [
    {
     "name": "stdout",
     "output_type": "stream",
     "text": [
      "welcome you all to,Tamilnadu\n"
     ]
    }
   ],
   "source": [
    "message=f\"welcome you all to,{statename[0].title()}\"\n",
    "print(message)"
   ]
  },
  {
   "cell_type": "code",
   "execution_count": 8,
   "id": "0eaf0927-cf64-4792-9639-938734d4d1ad",
   "metadata": {},
   "outputs": [
    {
     "name": "stdout",
     "output_type": "stream",
     "text": [
      "Welcome you all to, tamilnadu\n",
      "Welcome you all to, andrapradesh\n",
      "Welcome you all to, kerala\n",
      "Welcome you all to, karnataka\n",
      "Welcome you all to, telugana\n"
     ]
    }
   ],
   "source": [
    "for s in statename:\n",
    "    print(f\"Welcome you all to, {s}\")"
   ]
  },
  {
   "cell_type": "code",
   "execution_count": 12,
   "id": "d35b4ece-7900-4e3c-a1ee-c53ac6f28ebc",
   "metadata": {},
   "outputs": [
    {
     "name": "stdout",
     "output_type": "stream",
     "text": [
      "Tamilnadu, Welcomes you\n",
      "Andrapradesh, Welcomes you\n",
      "Kerala, Welcomes you\n",
      "Karnataka, Welcomes you\n",
      "Telugana, Welcomes you\n"
     ]
    }
   ],
   "source": [
    "for s in statename:\n",
    "    print(f\"{s.title()}, Welcomes you\")"
   ]
  },
  {
   "cell_type": "code",
   "execution_count": null,
   "id": "bc52e744-1a0f-4606-a1a1-5135a7e7f14a",
   "metadata": {},
   "outputs": [],
   "source": [
    "for s in statename:\n",
    "    print(f\"{s.title()}, Welcomes you|n)"
   ]
  }
 ],
 "metadata": {
  "kernelspec": {
   "display_name": "Python 3 (ipykernel)",
   "language": "python",
   "name": "python3"
  },
  "language_info": {
   "codemirror_mode": {
    "name": "ipython",
    "version": 3
   },
   "file_extension": ".py",
   "mimetype": "text/x-python",
   "name": "python",
   "nbconvert_exporter": "python",
   "pygments_lexer": "ipython3",
   "version": "3.11.7"
  }
 },
 "nbformat": 4,
 "nbformat_minor": 5
}
