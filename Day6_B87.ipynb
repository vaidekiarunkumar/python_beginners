{
 "cells": [
  {
   "cell_type": "code",
   "execution_count": 1,
   "id": "f6e71c9d-2ed0-49e5-94f8-e3af1bb81747",
   "metadata": {},
   "outputs": [
    {
     "name": "stdout",
     "output_type": "stream",
     "text": [
      "['jasmine', 'sunflower', 'rose', 'hibiscus', 'daisy', 'dahlia']\n"
     ]
    }
   ],
   "source": [
    "flowername=['jasmine','sunflower','rose','hibiscus','daisy','dahlia']\n",
    "print(flowername)"
   ]
  },
  {
   "cell_type": "code",
   "execution_count": 2,
   "id": "8d34023a-e97b-4221-a361-1ad31840c26a",
   "metadata": {},
   "outputs": [
    {
     "name": "stdout",
     "output_type": "stream",
     "text": [
      "['dahlia', 'daisy', 'hibiscus', 'jasmine', 'rose', 'sunflower']\n"
     ]
    }
   ],
   "source": [
    "print(sorted(flowername))"
   ]
  },
  {
   "cell_type": "code",
   "execution_count": 3,
   "id": "c8fb0c7b-05db-4d2e-86dd-b780693cdbea",
   "metadata": {},
   "outputs": [
    {
     "name": "stdout",
     "output_type": "stream",
     "text": [
      "['jasmine', 'sunflower', 'rose', 'hibiscus', 'daisy', 'dahlia']\n"
     ]
    }
   ],
   "source": [
    "print(flowername)"
   ]
  },
  {
   "cell_type": "code",
   "execution_count": 4,
   "id": "ff2f1a03-76fe-4394-a7fc-6b16f44bb5bd",
   "metadata": {},
   "outputs": [
    {
     "name": "stdout",
     "output_type": "stream",
     "text": [
      "['dahlia', 'daisy', 'hibiscus', 'jasmine', 'rose', 'sunflower']\n"
     ]
    }
   ],
   "source": [
    "flowername.sort()\n",
    "print(flowername)"
   ]
  },
  {
   "cell_type": "code",
   "execution_count": 5,
   "id": "cb22fb59-812b-4f76-9bab-ffedaf9604fe",
   "metadata": {},
   "outputs": [
    {
     "name": "stdout",
     "output_type": "stream",
     "text": [
      "['dahlia', 'daisy', 'hibiscus', 'jasmine', 'rose', 'sunflower']\n"
     ]
    }
   ],
   "source": [
    "print(flowername)\n"
   ]
  },
  {
   "cell_type": "code",
   "execution_count": 6,
   "id": "4de18830-4a00-4ebf-afcc-afc0a518db08",
   "metadata": {},
   "outputs": [
    {
     "name": "stdout",
     "output_type": "stream",
     "text": [
      "['sunflower', 'rose', 'jasmine', 'hibiscus', 'daisy', 'dahlia']\n"
     ]
    }
   ],
   "source": [
    "flowername.reverse()\n",
    "print(flowername)"
   ]
  },
  {
   "cell_type": "code",
   "execution_count": 7,
   "id": "683dd3c0-94fd-4813-b5a8-c8ffad85b83d",
   "metadata": {},
   "outputs": [
    {
     "data": {
      "text/plain": [
       "list"
      ]
     },
     "execution_count": 7,
     "metadata": {},
     "output_type": "execute_result"
    }
   ],
   "source": [
    "type(flowername)"
   ]
  },
  {
   "cell_type": "code",
   "execution_count": 8,
   "id": "1a750305-0f6c-48c6-9b63-08e4278f689b",
   "metadata": {},
   "outputs": [
    {
     "data": {
      "text/plain": [
       "6"
      ]
     },
     "execution_count": 8,
     "metadata": {},
     "output_type": "execute_result"
    }
   ],
   "source": [
    "len(flowername)"
   ]
  },
  {
   "cell_type": "code",
   "execution_count": 9,
   "id": "df008496-f8d4-475a-8dab-500ddaecf1c6",
   "metadata": {},
   "outputs": [
    {
     "name": "stdout",
     "output_type": "stream",
     "text": [
      "['hibiscus', 'daisy']\n"
     ]
    }
   ],
   "source": [
    "print(flowername[3:5])"
   ]
  },
  {
   "cell_type": "code",
   "execution_count": 10,
   "id": "886f7792-0711-49a5-bfd0-45e8285beee3",
   "metadata": {},
   "outputs": [
    {
     "name": "stdout",
     "output_type": "stream",
     "text": [
      "['sunflower', 'rose', 'jasmine']\n"
     ]
    }
   ],
   "source": [
    "print(flowername[0:3])"
   ]
  },
  {
   "cell_type": "code",
   "execution_count": 11,
   "id": "8877358d-1385-4e1c-ab76-0e31afa52067",
   "metadata": {},
   "outputs": [
    {
     "name": "stdout",
     "output_type": "stream",
     "text": [
      "['sunflower', 'jasmine', 'daisy']\n"
     ]
    }
   ],
   "source": [
    "print(flowername[0:6:2])"
   ]
  },
  {
   "cell_type": "code",
   "execution_count": 13,
   "id": "ce34b243-4c94-4990-86de-19e689f211ef",
   "metadata": {},
   "outputs": [
    {
     "name": "stdout",
     "output_type": "stream",
     "text": [
      "['sunflower', 'hibiscus']\n"
     ]
    }
   ],
   "source": [
    "print(flowername[0:6:3])"
   ]
  },
  {
   "cell_type": "code",
   "execution_count": null,
   "id": "be8dde45-34d7-4bef-973e-5d1c5eb4cbe1",
   "metadata": {},
   "outputs": [],
   "source": []
  }
 ],
 "metadata": {
  "kernelspec": {
   "display_name": "Python 3 (ipykernel)",
   "language": "python",
   "name": "python3"
  },
  "language_info": {
   "codemirror_mode": {
    "name": "ipython",
    "version": 3
   },
   "file_extension": ".py",
   "mimetype": "text/x-python",
   "name": "python",
   "nbconvert_exporter": "python",
   "pygments_lexer": "ipython3",
   "version": "3.11.7"
  }
 },
 "nbformat": 4,
 "nbformat_minor": 5
}
