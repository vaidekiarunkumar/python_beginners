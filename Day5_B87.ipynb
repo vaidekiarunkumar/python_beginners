{
 "cells": [
  {
   "cell_type": "code",
   "execution_count": 1,
   "id": "42734252-a17a-4355-a4dd-9dfdab8c08b0",
   "metadata": {},
   "outputs": [
    {
     "name": "stdout",
     "output_type": "stream",
     "text": [
      "The Zen of Python, by Tim Peters\n",
      "\n",
      "Beautiful is better than ugly.\n",
      "Explicit is better than implicit.\n",
      "Simple is better than complex.\n",
      "Complex is better than complicated.\n",
      "Flat is better than nested.\n",
      "Sparse is better than dense.\n",
      "Readability counts.\n",
      "Special cases aren't special enough to break the rules.\n",
      "Although practicality beats purity.\n",
      "Errors should never pass silently.\n",
      "Unless explicitly silenced.\n",
      "In the face of ambiguity, refuse the temptation to guess.\n",
      "There should be one-- and preferably only one --obvious way to do it.\n",
      "Although that way may not be obvious at first unless you're Dutch.\n",
      "Now is better than never.\n",
      "Although never is often better than *right* now.\n",
      "If the implementation is hard to explain, it's a bad idea.\n",
      "If the implementation is easy to explain, it may be a good idea.\n",
      "Namespaces are one honking great idea -- let's do more of those!\n"
     ]
    }
   ],
   "source": [
    "import this #"
   ]
  },
  {
   "cell_type": "code",
   "execution_count": 2,
   "id": "0c880aa1-ea8a-4258-b1a5-997522ce6d37",
   "metadata": {},
   "outputs": [
    {
     "name": "stdout",
     "output_type": "stream",
     "text": [
      "['india', 'usa', 'china', 'malasyia', 'germany', 'london']\n"
     ]
    }
   ],
   "source": [
    "countryname=['india','usa','china','malasyia','germany','london']\n",
    "print(countryname)"
   ]
  },
  {
   "cell_type": "code",
   "execution_count": 3,
   "id": "e9b2e8e1-4ab0-4dd2-acdf-f56f6b4b2e8e",
   "metadata": {},
   "outputs": [
    {
     "data": {
      "text/plain": [
       "list"
      ]
     },
     "execution_count": 3,
     "metadata": {},
     "output_type": "execute_result"
    }
   ],
   "source": [
    "type(countryname)"
   ]
  },
  {
   "cell_type": "code",
   "execution_count": 4,
   "id": "f2b2dfd5-75e2-4309-8347-2ded30408450",
   "metadata": {},
   "outputs": [
    {
     "name": "stdout",
     "output_type": "stream",
     "text": [
      "china\n"
     ]
    }
   ],
   "source": [
    "print(countryname[2])"
   ]
  },
  {
   "cell_type": "code",
   "execution_count": 5,
   "id": "fa937ca4-0f59-4c90-862c-28a8aa5095ab",
   "metadata": {},
   "outputs": [
    {
     "name": "stdout",
     "output_type": "stream",
     "text": [
      "Malasyia\n"
     ]
    }
   ],
   "source": [
    "print(countryname[3].title())\n",
    "     "
   ]
  },
  {
   "cell_type": "code",
   "execution_count": 9,
   "id": "11aabcb5-0c46-4791-9fda-91521ed42eb3",
   "metadata": {},
   "outputs": [
    {
     "name": "stdout",
     "output_type": "stream",
     "text": [
      "['india', 'usa', 'china', 'malasyia', 'germany', 'london', 'pakistan']\n"
     ]
    }
   ],
   "source": [
    "countryname.append('pakistan')\n",
    "print(countryname)"
   ]
  },
  {
   "cell_type": "code",
   "execution_count": 10,
   "id": "fb7c06ac-9c45-4222-8183-0039de7f3708",
   "metadata": {},
   "outputs": [
    {
     "name": "stdout",
     "output_type": "stream",
     "text": [
      "['india', 'usa', 'china', 'malasyia', 'germany', 'canada', 'london', 'pakistan']\n"
     ]
    }
   ],
   "source": [
    "countryname.insert(5,'canada')\n",
    "print(countryname)"
   ]
  },
  {
   "cell_type": "code",
   "execution_count": 12,
   "id": "376917bc-54ac-4a06-bea3-052fb5f635db",
   "metadata": {},
   "outputs": [
    {
     "name": "stdout",
     "output_type": "stream",
     "text": [
      "['india', 'srilanka', 'china', 'malasyia', 'germany', 'canada', 'london', 'pakistan']\n"
     ]
    }
   ],
   "source": [
    "countryname[1]='srilanka'\n",
    "print(countryname)"
   ]
  },
  {
   "cell_type": "code",
   "execution_count": 14,
   "id": "60251e67-f26b-45ab-94f2-3489ecf0b959",
   "metadata": {},
   "outputs": [
    {
     "name": "stdout",
     "output_type": "stream",
     "text": [
      "['india', 'srilanka', 'china', 'malasyia', 'canada', 'london', 'pakistan']\n"
     ]
    }
   ],
   "source": [
    "del countryname[4]\n",
    "print(countryname)"
   ]
  },
  {
   "cell_type": "code",
   "execution_count": null,
   "id": "4d72e679-8a9a-4d85-aad7-6cabba96908d",
   "metadata": {},
   "outputs": [],
   "source": []
  }
 ],
 "metadata": {
  "kernelspec": {
   "display_name": "Python 3 (ipykernel)",
   "language": "python",
   "name": "python3"
  },
  "language_info": {
   "codemirror_mode": {
    "name": "ipython",
    "version": 3
   },
   "file_extension": ".py",
   "mimetype": "text/x-python",
   "name": "python",
   "nbconvert_exporter": "python",
   "pygments_lexer": "ipython3",
   "version": "3.11.7"
  }
 },
 "nbformat": 4,
 "nbformat_minor": 5
}
