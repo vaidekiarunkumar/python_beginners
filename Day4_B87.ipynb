{
 "cells": [
  {
   "cell_type": "code",
   "execution_count": 4,
   "id": "1bf5f738-3551-4b7b-8568-28626d7d6d37",
   "metadata": {},
   "outputs": [
    {
     "name": "stdout",
     "output_type": "stream",
     "text": [
      "welcome to python learning program arunkumar\n"
     ]
    }
   ],
   "source": [
    "firstname='arun'\n",
    "lastname='kumar'\n",
    "fullname=f\"welcome to python learning program {firstname}{lastname}\"\n",
    "print(fullname)"
   ]
  },
  {
   "cell_type": "code",
   "execution_count": 5,
   "id": "4aa0141f-0b71-4fe4-965b-b3d5b4898f8a",
   "metadata": {},
   "outputs": [
    {
     "name": "stdout",
     "output_type": "stream",
     "text": [
      "Welcome To Python Learning Program Arunkumar\n"
     ]
    }
   ],
   "source": [
    "print(fullname.title())"
   ]
  },
  {
   "cell_type": "code",
   "execution_count": 6,
   "id": "b9db6cc8-7f97-4eb2-858e-5f86709771da",
   "metadata": {},
   "outputs": [
    {
     "name": "stdout",
     "output_type": "stream",
     "text": [
      "WELCOME TO PYTHON LEARNING PROGRAM ARUNKUMAR\n"
     ]
    }
   ],
   "source": [
    "print(fullname.upper())"
   ]
  },
  {
   "cell_type": "code",
   "execution_count": 7,
   "id": "c3e17aca-4883-4efa-bd89-3f17ab059cf0",
   "metadata": {},
   "outputs": [
    {
     "name": "stdout",
     "output_type": "stream",
     "text": [
      "chennai,madurai,ooty,kodikannal,trichy,salem\n"
     ]
    }
   ],
   "source": [
    "city_name=\"chennai,madurai,ooty,kodikannal,trichy,salem\"\n",
    "print(city_name)"
   ]
  },
  {
   "cell_type": "code",
   "execution_count": 9,
   "id": "b7b775bf-880d-4447-804d-f98f03c64506",
   "metadata": {},
   "outputs": [
    {
     "name": "stdout",
     "output_type": "stream",
     "text": [
      "chennai\n",
      "madurai\n",
      "ooty\n",
      "kodikannal\n",
      "trichy\n",
      "salem\n",
      "\n"
     ]
    }
   ],
   "source": [
    "city_name=\"chennai\\nmadurai\\nooty\\nkodikannal\\ntrichy\\nsalem\\n\"\n",
    "print(city_name)"
   ]
  },
  {
   "cell_type": "code",
   "execution_count": 11,
   "id": "626dbb0f-cbf0-486c-b0c4-27bfc347770c",
   "metadata": {},
   "outputs": [
    {
     "name": "stdout",
     "output_type": "stream",
     "text": [
      "\tchennai\n",
      "\tmadurai\n",
      "\tooty\n",
      "\tkodikannal\n",
      "\ttrichy\n",
      "\tsalem\n",
      "\n"
     ]
    }
   ],
   "source": [
    "city_name=\"\\tchennai\\n\\tmadurai\\n\\tooty\\n\\tkodikannal\\n\\ttrichy\\n\\tsalem\\n\"\n",
    "print(city_name)"
   ]
  },
  {
   "cell_type": "code",
   "execution_count": 13,
   "id": "56fd650f-1598-46a4-bdfa-64c530bbfe7c",
   "metadata": {},
   "outputs": [
    {
     "name": "stdout",
     "output_type": "stream",
     "text": [
      "  arun\n"
     ]
    }
   ],
   "source": [
    "name=\"  arun\"\n",
    "print(name)"
   ]
  },
  {
   "cell_type": "code",
   "execution_count": 14,
   "id": "8b6871c7-ff87-472b-b529-d7ee035270ad",
   "metadata": {},
   "outputs": [
    {
     "data": {
      "text/plain": [
       "'arun'"
      ]
     },
     "execution_count": 14,
     "metadata": {},
     "output_type": "execute_result"
    }
   ],
   "source": [
    "name.strip()"
   ]
  },
  {
   "cell_type": "code",
   "execution_count": 15,
   "id": "4ca23713-373c-4e2d-9e03-4cf4b10d9ab6",
   "metadata": {},
   "outputs": [
    {
     "data": {
      "text/plain": [
       "'arun'"
      ]
     },
     "execution_count": 15,
     "metadata": {},
     "output_type": "execute_result"
    }
   ],
   "source": [
    "name.lstrip()"
   ]
  },
  {
   "cell_type": "code",
   "execution_count": 17,
   "id": "c78cbe69-2dcc-4f6f-9604-5eb0d415fe32",
   "metadata": {},
   "outputs": [
    {
     "name": "stdout",
     "output_type": "stream",
     "text": [
      "arun  \n"
     ]
    }
   ],
   "source": [
    "name=\"arun  \"\n",
    "print(name)"
   ]
  },
  {
   "cell_type": "code",
   "execution_count": 18,
   "id": "a5dc3f26-c19b-4aa3-b81e-17633da8c446",
   "metadata": {},
   "outputs": [
    {
     "name": "stdout",
     "output_type": "stream",
     "text": [
      "arun  \n"
     ]
    }
   ],
   "source": [
    "name.rstrip()\n",
    "print(name)"
   ]
  }
 ],
 "metadata": {
  "kernelspec": {
   "display_name": "Python 3 (ipykernel)",
   "language": "python",
   "name": "python3"
  },
  "language_info": {
   "codemirror_mode": {
    "name": "ipython",
    "version": 3
   },
   "file_extension": ".py",
   "mimetype": "text/x-python",
   "name": "python",
   "nbconvert_exporter": "python",
   "pygments_lexer": "ipython3",
   "version": "3.11.7"
  }
 },
 "nbformat": 4,
 "nbformat_minor": 5
}
