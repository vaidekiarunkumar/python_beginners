{
 "cells": [
  {
   "cell_type": "code",
   "execution_count": 7,
   "id": "94aaba17-6ca9-4a72-bf8f-14db1144f120",
   "metadata": {},
   "outputs": [
    {
     "name": "stdout",
     "output_type": "stream",
     "text": [
      "{'color': 'blue', 'brand': 'honda'}\n"
     ]
    }
   ],
   "source": [
    "car={'color':'blue','brand':'honda'}\n",
    "print(car)"
   ]
  },
  {
   "cell_type": "code",
   "execution_count": 8,
   "id": "afd3097e-ce24-453e-82c4-3a2414b622e9",
   "metadata": {},
   "outputs": [
    {
     "name": "stdout",
     "output_type": "stream",
     "text": [
      "{'color': 'blue', 'brand': 'honda', 'model': 'accord'}\n"
     ]
    }
   ],
   "source": [
    "car['model']='accord'\n",
    "print(car)"
   ]
  },
  {
   "cell_type": "code",
   "execution_count": 9,
   "id": "87df954b-93fa-46ba-b4cc-669bde8077cc",
   "metadata": {},
   "outputs": [
    {
     "data": {
      "text/plain": [
       "'honda'"
      ]
     },
     "execution_count": 9,
     "metadata": {},
     "output_type": "execute_result"
    }
   ],
   "source": [
    "car['brand']"
   ]
  },
  {
   "cell_type": "code",
   "execution_count": 10,
   "id": "30e7876b-f437-4eff-89c4-0488575dcc92",
   "metadata": {},
   "outputs": [
    {
     "ename": "KeyError",
     "evalue": "'honda'",
     "output_type": "error",
     "traceback": [
      "\u001b[1;31m---------------------------------------------------------------------------\u001b[0m",
      "\u001b[1;31mKeyError\u001b[0m                                  Traceback (most recent call last)",
      "Cell \u001b[1;32mIn[10], line 1\u001b[0m\n\u001b[1;32m----> 1\u001b[0m car[\u001b[38;5;124m'\u001b[39m\u001b[38;5;124mhonda\u001b[39m\u001b[38;5;124m'\u001b[39m]\n",
      "\u001b[1;31mKeyError\u001b[0m: 'honda'"
     ]
    }
   ],
   "source": [
    "car['honda']"
   ]
  },
  {
   "cell_type": "code",
   "execution_count": 11,
   "id": "38f87ccf-30af-47f4-8e42-9720c91a4b95",
   "metadata": {},
   "outputs": [
    {
     "name": "stdout",
     "output_type": "stream",
     "text": [
      "color\n",
      "blue\n",
      "brand\n",
      "honda\n",
      "model\n",
      "accord\n"
     ]
    }
   ],
   "source": [
    "for c,d in car.items():\n",
    "    print(c)\n",
    "    print(d)"
   ]
  },
  {
   "cell_type": "code",
   "execution_count": null,
   "id": "56955e58-40e7-417c-b291-a0abc7943dc8",
   "metadata": {},
   "outputs": [],
   "source": []
  }
 ],
 "metadata": {
  "kernelspec": {
   "display_name": "Python 3 (ipykernel)",
   "language": "python",
   "name": "python3"
  },
  "language_info": {
   "codemirror_mode": {
    "name": "ipython",
    "version": 3
   },
   "file_extension": ".py",
   "mimetype": "text/x-python",
   "name": "python",
   "nbconvert_exporter": "python",
   "pygments_lexer": "ipython3",
   "version": "3.11.7"
  }
 },
 "nbformat": 4,
 "nbformat_minor": 5
}
